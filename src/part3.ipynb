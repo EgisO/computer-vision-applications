{
 "cells": [
  {
   "cell_type": "markdown",
   "metadata": {},
   "source": [
    "# Team EGE - BLG453E Term Project\n",
    "Egehan Orta - 150160124\n",
    "\n",
    "Yavuz Ege Okumuş - 150160118\n",
    "## Bouncing Balls"
   ]
  },
  {
   "cell_type": "code",
   "execution_count": 1,
   "metadata": {
    "ExecuteTime": {
     "end_time": "2021-01-31T13:06:57.427227Z",
     "start_time": "2021-01-31T13:06:53.766604Z"
    }
   },
   "outputs": [],
   "source": [
    "import cv2 as cv\n",
    "import numpy as np\n",
    "import matplotlib.pyplot as plt\n",
    "import moviepy.editor as mpy\n",
    "from scipy import signal"
   ]
  },
  {
   "cell_type": "code",
   "execution_count": 2,
   "metadata": {
    "ExecuteTime": {
     "end_time": "2021-01-31T13:07:02.101496Z",
     "start_time": "2021-01-31T13:06:58.116208Z"
    }
   },
   "outputs": [],
   "source": [
    "movie = mpy.VideoFileClip('./movie_001.avi')"
   ]
  },
  {
   "cell_type": "code",
   "execution_count": 3,
   "metadata": {
    "ExecuteTime": {
     "end_time": "2021-01-31T13:07:02.182282Z",
     "start_time": "2021-01-31T13:07:02.118453Z"
    }
   },
   "outputs": [],
   "source": [
    "pure_blue = np.uint8([[[73,86,236]]])\n",
    "hsv_blue = cv.cvtColor(pure_blue, cv.COLOR_RGB2HSV)\n",
    "ub = hsv_blue + [[[10, 0 , 0]]]\n",
    "lb = hsv_blue + [[[-10, -155 , -155]]]\n",
    "\n",
    "pure_green = np.uint8([[[35,208,90]]])\n",
    "hsv_green = cv.cvtColor(pure_green, cv.COLOR_RGB2HSV)\n",
    "ug = hsv_green + [[[10, 0 , 0]]]\n",
    "lg = hsv_green + [[[-10, -155 , -155]]]\n",
    "\n",
    "pure_red = np.uint8([[[253,33,41]]])\n",
    "hsv_red = cv.cvtColor(pure_red, cv.COLOR_RGB2HSV)\n",
    "ur = hsv_red + [[[10, 0 , 0]]]\n",
    "lr = hsv_red + [[[-10, -155 , -155]]]\n",
    "\n",
    "pure_pink = np.uint8([[[253,203,236]]])\n",
    "hsv_pink = cv.cvtColor(pure_pink, cv.COLOR_RGB2HSV)\n",
    "up = hsv_pink + [[[10, 0 , 0]]]\n",
    "lp = hsv_pink + [[[-10, -155 , -155]]]"
   ]
  },
  {
   "cell_type": "code",
   "execution_count": 21,
   "metadata": {
    "ExecuteTime": {
     "end_time": "2021-01-31T13:15:13.207300Z",
     "start_time": "2021-01-31T13:15:13.196355Z"
    }
   },
   "outputs": [],
   "source": [
    "def optical_flow(im1, im2, window_size, points):\n",
    "    im1_org = im1.copy()\n",
    "    im2_org = im2.copy()\n",
    "    \n",
    "    im1 = cv.cvtColor(im1, cv.COLOR_RGB2GRAY)\n",
    "    im2 = cv.cvtColor(im2, cv.COLOR_RGB2GRAY)\n",
    "    \n",
    "    w = window_size//2\n",
    "    im1 = im1 / 255.0\n",
    "    im2 = im2 / 255.0\n",
    "    \n",
    "    ix = conv(im1, kernel_x, 'same') + conv(im2, kernel_x, 'same')\n",
    "    iy = conv(im1, kernel_y, 'same') + conv(im2, kernel_y, 'same')\n",
    "    it = conv(im1, kernel_t, 'same') + conv(im2, -kernel_t, 'same')\n",
    "    \n",
    "    uv_list = []\n",
    "    img = im1_org.copy()\n",
    "    for point in points:\n",
    "        x,y = point\n",
    "    \n",
    "        ixx = ix[y-w:y+w+1, x-w:x+w+1].ravel().reshape((-1,1))\n",
    "        iyy = iy[y-w:y+w+1, x-w:x+w+1].ravel().reshape((-1,1))\n",
    "        \n",
    "        a = np.dstack((ixx.ravel(),iyy.ravel())).reshape(-1,2)\n",
    "        b = np.array([ it[y-w:y+w+1, x-w:x+w+1] ]).ravel().reshape((-1,1))\n",
    "        ata = np.matmul(a.T,a)\n",
    "        atb = np.matmul(a.T,b)\n",
    "        atainv = np.linalg.pinv(ata)\n",
    "        uv = -np.matmul(atainv,atb)\n",
    "        uv_list.append(uv)\n",
    "        \n",
    "        if (uv == 0).all():\n",
    "            uvn = uv.copy()\n",
    "        else:\n",
    "            uvn = 20 * uv / np.linalg.norm(uv)\n",
    "        \n",
    "        img = cv.arrowedLine(img, (x,y), (x+int(uvn[0]), y+int(uvn[1])), (255,0,150), 2, tipLength=0.8)\n",
    "    return img, uv_list"
   ]
  },
  {
   "cell_type": "code",
   "execution_count": 5,
   "metadata": {
    "ExecuteTime": {
     "end_time": "2021-01-31T13:07:42.842433Z",
     "start_time": "2021-01-31T13:07:42.836474Z"
    }
   },
   "outputs": [],
   "source": [
    "kernel_x = np.array([[-1., 1.], [-1., 1.]]) * 0.25\n",
    "kernel_y = np.array([[-1., -1.], [1., 1.]]) * 0.25\n",
    "kernel_t = np.array([[1., 1.], [1., 1.]]) * 0.25\n",
    "kernel = np.uint8([[0,1,0],[1,1,1],[0,1,0]])\n",
    "conv = signal.convolve2d"
   ]
  },
  {
   "cell_type": "code",
   "execution_count": 81,
   "metadata": {
    "ExecuteTime": {
     "end_time": "2021-01-31T13:22:45.046309Z",
     "start_time": "2021-01-31T13:22:45.033298Z"
    }
   },
   "outputs": [],
   "source": [
    "def mask_creator(img):\n",
    "    img = img.copy()\n",
    "    img = cv.blur(img,(3,3))\n",
    "    img = cv.blur(img,(3,3))\n",
    "    img = cv.morphologyEx(img, cv.MORPH_CLOSE, np.ones((3,3)),iterations=3)\n",
    "    \n",
    "    hsv = cv.cvtColor(img, cv.COLOR_RGB2HSV)\n",
    "    blue_mask = cv.inRange(hsv, lb, ub)\n",
    "    green_mask = cv.inRange(hsv, lg, ug)\n",
    "    red_mask = cv.inRange(hsv, lr, ur)\n",
    "    pink_mask = cv.inRange(hsv, lp, up)\n",
    "    \n",
    "    blue_mask = cv.morphologyEx(blue_mask, cv.MORPH_CLOSE, kernel,iterations=5)\n",
    "    blue_mask = cv.morphologyEx(blue_mask, cv.MORPH_OPEN, kernel,iterations=2)\n",
    "    blue_mask = cv.morphologyEx(blue_mask, cv.MORPH_CLOSE, kernel,iterations=2)\n",
    "    \n",
    "    green_mask = cv.morphologyEx(green_mask, cv.MORPH_CLOSE, kernel,iterations=5)\n",
    "    green_mask = cv.morphologyEx(green_mask, cv.MORPH_OPEN, kernel,iterations=2)\n",
    "    green_mask = cv.morphologyEx(green_mask, cv.MORPH_CLOSE, kernel,iterations=2)\n",
    "    \n",
    "    red_mask = cv.morphologyEx(red_mask, cv.MORPH_CLOSE, kernel,iterations=5)\n",
    "    red_mask = cv.morphologyEx(red_mask, cv.MORPH_OPEN, kernel,iterations=2)\n",
    "    red_mask = cv.morphologyEx(red_mask, cv.MORPH_CLOSE, kernel,iterations=2)\n",
    "    \n",
    "    pink_mask = cv.morphologyEx(pink_mask, cv.MORPH_OPEN, kernel,iterations=4)\n",
    "    pink_mask = cv.morphologyEx(pink_mask, cv.MORPH_CLOSE, kernel,iterations=5)\n",
    "#     pink_mask = cv.morphologyEx(pink_mask, cv.MORPH_CLOSE, kernel,iterations=2)\n",
    "#     mask = blue_mask + green_mask + red_mask + pink_mask\n",
    "\n",
    "    mid_points = []\n",
    "    for i in [blue_mask, green_mask, red_mask, pink_mask]:\n",
    "        y,x = np.nonzero(i)\n",
    "        mid_points.append((int(np.round(np.mean(x))), int(np.round(np.mean(y)))))\n",
    "\n",
    "    \n",
    "    return mid_points"
   ]
  },
  {
   "cell_type": "code",
   "execution_count": 82,
   "metadata": {
    "ExecuteTime": {
     "end_time": "2021-01-31T13:22:46.395653Z",
     "start_time": "2021-01-31T13:22:46.391665Z"
    }
   },
   "outputs": [],
   "source": [
    "n_frames = movie.reader.nframes\n",
    "fps = movie.fps"
   ]
  },
  {
   "cell_type": "code",
   "execution_count": 84,
   "metadata": {
    "ExecuteTime": {
     "end_time": "2021-01-31T13:30:27.394025Z",
     "start_time": "2021-01-31T13:25:53.668691Z"
    }
   },
   "outputs": [],
   "source": [
    "ims = []\n",
    "uvs = []\n",
    "for i in range(n_frames-1):\n",
    "    im1 = movie.get_frame(i*1.0/fps)\n",
    "    im2 = movie.get_frame((i+1)*1.0/fps)\n",
    "    \n",
    "    points = mask_creator(im1)\n",
    "    im,uv = optical_flow(im1,im2,25,points)\n",
    "    ims.append(im)\n",
    "    uvs.append(uv)"
   ]
  },
  {
   "cell_type": "code",
   "execution_count": 85,
   "metadata": {
    "ExecuteTime": {
     "end_time": "2021-01-31T13:36:49.664472Z",
     "start_time": "2021-01-31T13:36:43.231463Z"
    }
   },
   "outputs": [
    {
     "name": "stdout",
     "output_type": "stream",
     "text": [
      "Moviepy - Building video part3_team_ege_output.mp4.\n",
      "Moviepy - Writing video part3_team_ege_output.mp4\n",
      "\n"
     ]
    },
    {
     "name": "stderr",
     "output_type": "stream",
     "text": [
      "                                                                                                                       \r"
     ]
    },
    {
     "name": "stdout",
     "output_type": "stream",
     "text": [
      "Moviepy - Done !\n",
      "Moviepy - video ready part3_team_ege_output.mp4\n"
     ]
    }
   ],
   "source": [
    "clip = mpy.ImageSequenceClip(ims, fps = fps)\n",
    "clip.write_videofile(\"part3_team_ege_output.mp4\", codec=\"libx264\")"
   ]
  },
  {
   "cell_type": "code",
   "execution_count": 86,
   "metadata": {
    "ExecuteTime": {
     "end_time": "2021-01-31T13:36:53.229322Z",
     "start_time": "2021-01-31T13:36:53.132566Z"
    }
   },
   "outputs": [],
   "source": [
    "sums = {\n",
    "    'blue':0,\n",
    "    'green':0,\n",
    "    'red':0,\n",
    "    'pink':0\n",
    "}\n",
    "\n",
    "for i in range(len(uvs)):\n",
    "    for j,key in enumerate(sums.keys()):\n",
    "        disp = uvs[i][j]\n",
    "        sums[key] = sums[key] + np.sqrt(np.sum(disp**2))"
   ]
  },
  {
   "cell_type": "code",
   "execution_count": 88,
   "metadata": {
    "ExecuteTime": {
     "end_time": "2021-01-31T13:38:20.872738Z",
     "start_time": "2021-01-31T13:38:20.866753Z"
    }
   },
   "outputs": [
    {
     "name": "stdout",
     "output_type": "stream",
     "text": [
      "Velocity of blue = 2.860059371782575 px/frame\n",
      "Velocity of blue = 85.75427186158718 px/sec\n",
      "\n",
      "Velocity of green = 2.8947329495677674 px/frame\n",
      "Velocity of green = 86.79390322209004 px/sec\n",
      "\n",
      "Velocity of red = 4.179407995564518 px/frame\n",
      "Velocity of red = 125.31281448494943 px/sec\n",
      "\n",
      "Velocity of pink = 2.257580799599167 px/frame\n",
      "Velocity of pink = 67.68992264578898 px/sec\n",
      "\n"
     ]
    }
   ],
   "source": [
    "for i in sums.keys():\n",
    "    print('Velocity of',i,'=',sums[i]/n_frames,'px/frame')\n",
    "    print('Velocity of',i,'=',sums[i]/movie.duration,'px/sec')\n",
    "    print()"
   ]
  },
  {
   "cell_type": "code",
   "execution_count": null,
   "metadata": {},
   "outputs": [],
   "source": []
  }
 ],
 "metadata": {
  "kernelspec": {
   "display_name": "Python 3",
   "language": "python",
   "name": "python3"
  },
  "language_info": {
   "codemirror_mode": {
    "name": "ipython",
    "version": 3
   },
   "file_extension": ".py",
   "mimetype": "text/x-python",
   "name": "python",
   "nbconvert_exporter": "python",
   "pygments_lexer": "ipython3",
   "version": "3.7.7"
  },
  "varInspector": {
   "cols": {
    "lenName": 16,
    "lenType": 16,
    "lenVar": 40
   },
   "kernels_config": {
    "python": {
     "delete_cmd_postfix": "",
     "delete_cmd_prefix": "del ",
     "library": "var_list.py",
     "varRefreshCmd": "print(var_dic_list())"
    },
    "r": {
     "delete_cmd_postfix": ") ",
     "delete_cmd_prefix": "rm(",
     "library": "var_list.r",
     "varRefreshCmd": "cat(var_dic_list()) "
    }
   },
   "types_to_exclude": [
    "module",
    "function",
    "builtin_function_or_method",
    "instance",
    "_Feature"
   ],
   "window_display": false
  }
 },
 "nbformat": 4,
 "nbformat_minor": 4
}
