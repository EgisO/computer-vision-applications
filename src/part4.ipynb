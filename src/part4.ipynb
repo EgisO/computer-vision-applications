{
 "cells": [
  {
   "cell_type": "markdown",
   "metadata": {},
   "source": [
    "# Team EGE - BLG453E Term Project\n",
    "Egehan Orta - 150160124\n",
    "\n",
    "Yavuz Ege Okumuş - 150160118\n",
    "## Vascular Segmentation"
   ]
  },
  {
   "cell_type": "code",
   "execution_count": 1,
   "metadata": {
    "ExecuteTime": {
     "end_time": "2021-01-31T13:27:43.513338Z",
     "start_time": "2021-01-31T13:27:42.846362Z"
    }
   },
   "outputs": [],
   "source": [
    "import numpy as np \n",
    "import cv2 as cv\n",
    "import nibabel as nib\n",
    "import matplotlib.pyplot as plt\n",
    "from itertools import product"
   ]
  },
  {
   "cell_type": "code",
   "execution_count": 2,
   "metadata": {
    "ExecuteTime": {
     "end_time": "2021-01-31T13:27:44.749083Z",
     "start_time": "2021-01-31T13:27:44.571255Z"
    }
   },
   "outputs": [],
   "source": [
    "img_dict = {\n",
    "    'img' : nib.load(\"V.nii\").get_fdata(),\n",
    "    'seg' : nib.load(\"V_seg.nii\").get_fdata(),\n",
    "}"
   ]
  },
  {
   "cell_type": "code",
   "execution_count": 3,
   "metadata": {
    "ExecuteTime": {
     "end_time": "2021-01-31T13:27:45.494401Z",
     "start_time": "2021-01-31T13:27:45.487386Z"
    }
   },
   "outputs": [],
   "source": [
    "seed_2d = [[82, 36, 43],[35, 64, 48],[156, 63, 50],[82, 34, 44],\n",
    "           [45, 58, 46],[167, 76, 49],[71, 19, 53],[91, 3, 70],\n",
    "           [33, 61, 51],[78, 37, 54],[83, 34, 55],[115, 3, 80],\n",
    "           [31, 68, 47],[29, 19, 45],[48, 41, 52]]\n",
    "\n",
    "seed_3d = [[82, 21, 47],[46, 45, 51],[35, 31, 52],\n",
    "           [91, 22, 46],[2, 23, 48],[35, 31, 50]]"
   ]
  },
  {
   "cell_type": "code",
   "execution_count": 4,
   "metadata": {
    "ExecuteTime": {
     "end_time": "2021-01-31T13:27:46.477345Z",
     "start_time": "2021-01-31T13:27:46.460391Z"
    }
   },
   "outputs": [],
   "source": [
    "def region_growing_2D(img, s, thresh, mode):\n",
    "    x,y,z = img.shape\n",
    "    \n",
    "    p = []\n",
    "    p.append(s)\n",
    "    ret = np.zeros_like(img, dtype=np.float32)\n",
    "    ret[s[0], s[1], s[2]] = 1.0\n",
    "    \n",
    "    n8 = [[-1, -1], [-1, 0], [-1, 1], [0, -1], [0, 1], [1, -1], [1, 0], [1, 1]]\n",
    "    n4 = [[-1, 0], [0, -1], [0, 1], [1, 0]]\n",
    "    \n",
    "    if mode == 8:\n",
    "        sel = n8\n",
    "    elif mode == 4:\n",
    "        sel = n4\n",
    "        \n",
    "    while p:\n",
    "        i = p.pop(0)\n",
    "        for item in sel:\n",
    "            temp = [i[0]+item[0], i[1]+item[1], s[2]]\n",
    "            if (temp[0]<0) or (temp[0]>x-1) or (temp[1]<0)\\\n",
    "            or (temp[1]>y-1) or (temp[2]<0) or (temp[2]>z-1)\\\n",
    "            or (ret[temp[0], temp[1], temp[2]] == 1.0):\n",
    "                continue\n",
    "            if img[temp[0], temp[1], temp[2]] > thresh:\n",
    "                ret[temp[0], temp[1], temp[2]] = 1.0\n",
    "                p.append(temp)\n",
    "    return ret"
   ]
  },
  {
   "cell_type": "code",
   "execution_count": 5,
   "metadata": {
    "ExecuteTime": {
     "end_time": "2021-01-31T13:27:47.116842Z",
     "start_time": "2021-01-31T13:27:47.099331Z"
    }
   },
   "outputs": [],
   "source": [
    "def region_growing_3D(img, s, thresh, mode):\n",
    "    x,y,z = img.shape\n",
    "    \n",
    "    p = []\n",
    "    p.append(s)\n",
    "    ret = np.zeros_like(img, dtype=np.float32)\n",
    "    ret[s[0], s[1], s[2]] = 1.0\n",
    "    \n",
    "    n26 = [[-1, -1, -1],[-1, -1, 0],[-1, -1, 1],[-1, 0, -1],[-1, 0, 0],\n",
    "           [-1, 0, 1],[-1, 1, -1],[-1, 1, 0],[-1, 1, 1],[0, -1, -1],\n",
    "           [0, -1, 0],[0, -1, 1],[0, 0, -1],[0, 0, 1],[0, 1, -1],\n",
    "           [0, 1, 0],[0, 1, 1],[1, -1, -1],[1, -1, 0],[1, -1, 1],\n",
    "           [1, 0, -1],[1, 0, 0],[1, 0, 1],[1, 1, -1],[1, 1, 0],[1, 1, 1]]\n",
    "    \n",
    "    n6 = [[-1,0,0], [1,0,0], [0,-1,0], [0,1,0],[0,0,-1],[0,0,1]]\n",
    "    \n",
    "    if mode == 26:\n",
    "        sel = n26\n",
    "    elif mode==6:\n",
    "        sel = n6\n",
    "    while p:\n",
    "        i = p.pop(0)\n",
    "        \n",
    "        for item in sel:\n",
    "            temp = [i[0]+item[0], i[1]+item[1], i[2]+item[2]]\n",
    "            if (temp[0]<0) or (temp[0]>x-1) or (temp[1]<0)\\\n",
    "            or (temp[1]>y-1) or (temp[2]<0) or (temp[2]>z-1)\\\n",
    "            or (ret[temp[0], temp[1], temp[2]] == 1.0):\n",
    "                continue\n",
    "            if img[temp[0], temp[1], temp[2]] > thresh:\n",
    "                ret[temp[0], temp[1], temp[2]] = 1.0\n",
    "                p.append(temp)\n",
    "    return ret"
   ]
  },
  {
   "cell_type": "code",
   "execution_count": 6,
   "metadata": {
    "ExecuteTime": {
     "end_time": "2021-01-31T13:27:47.839896Z",
     "start_time": "2021-01-31T13:27:47.835905Z"
    }
   },
   "outputs": [],
   "source": [
    "def dice_score(gt,seg):\n",
    "    return 2.0 * np.count_nonzero( np.logical_and(gt,seg)) / (np.count_nonzero(gt)+ np.count_nonzero(seg))"
   ]
  },
  {
   "cell_type": "code",
   "execution_count": 8,
   "metadata": {
    "ExecuteTime": {
     "end_time": "2021-01-31T13:28:24.382551Z",
     "start_time": "2021-01-31T13:28:23.209384Z"
    }
   },
   "outputs": [],
   "source": [
    "imlist=[]\n",
    "for s in seed_2d:\n",
    "    imlist.append(region_growing_2D(img_dict['img'],s,0.65,8))\n",
    "mask = np.zeros_like(img_dict['img'])\n",
    "for i in imlist:\n",
    "    mask = np.logical_or(i,mask)\n",
    "    \n",
    "img_dict['img8'] = mask"
   ]
  },
  {
   "cell_type": "code",
   "execution_count": 10,
   "metadata": {
    "ExecuteTime": {
     "end_time": "2021-01-31T13:29:58.411774Z",
     "start_time": "2021-01-31T13:29:57.616420Z"
    }
   },
   "outputs": [],
   "source": [
    "imlist=[]\n",
    "for s in seed_2d:\n",
    "    imlist.append(region_growing_2D(img_dict['img'],s,0.65,4))\n",
    "mask = np.zeros_like(img_dict['img'])\n",
    "for i in imlist:\n",
    "    mask = np.logical_or(i,mask)\n",
    "    \n",
    "img_dict['img4'] = mask"
   ]
  },
  {
   "cell_type": "code",
   "execution_count": 12,
   "metadata": {
    "ExecuteTime": {
     "end_time": "2021-01-31T13:30:26.916273Z",
     "start_time": "2021-01-31T13:30:08.435193Z"
    }
   },
   "outputs": [],
   "source": [
    "imlist=[]\n",
    "for s in seed_3d:\n",
    "    imlist.append(region_growing_3D(img_dict['img'],s,0.7,26))\n",
    "mask = np.zeros_like(img_dict['img'])\n",
    "for i in imlist:\n",
    "    mask = np.logical_or(i,mask)\n",
    "    \n",
    "img_dict['img26'] = mask"
   ]
  },
  {
   "cell_type": "code",
   "execution_count": 14,
   "metadata": {
    "ExecuteTime": {
     "end_time": "2021-01-31T13:30:50.653796Z",
     "start_time": "2021-01-31T13:30:47.619550Z"
    }
   },
   "outputs": [],
   "source": [
    "imlist=[]\n",
    "for s in seed_3d:\n",
    "    imlist.append(region_growing_3D(img_dict['img'],s,0.7,6))\n",
    "mask = np.zeros_like(img_dict['img'])\n",
    "for i in imlist:\n",
    "    mask = np.logical_or(i,mask)\n",
    "    \n",
    "img_dict['img6'] = mask"
   ]
  },
  {
   "cell_type": "code",
   "execution_count": 16,
   "metadata": {
    "ExecuteTime": {
     "end_time": "2021-01-31T13:31:08.326308Z",
     "start_time": "2021-01-31T13:31:07.774709Z"
    }
   },
   "outputs": [],
   "source": [
    "scores = {\n",
    "    'img8' : dice_score(img_dict['seg'], img_dict['img8']),\n",
    "    'img4' : dice_score(img_dict['seg'], img_dict['img4']),\n",
    "    'img26' : dice_score(img_dict['seg'], img_dict['img26']),\n",
    "    'img6' : dice_score(img_dict['seg'], img_dict['img6'])\n",
    "}"
   ]
  },
  {
   "cell_type": "code",
   "execution_count": 28,
   "metadata": {
    "ExecuteTime": {
     "end_time": "2021-01-31T13:53:29.893966Z",
     "start_time": "2021-01-31T13:53:29.885989Z"
    }
   },
   "outputs": [
    {
     "name": "stdout",
     "output_type": "stream",
     "text": [
      "Scores\n",
      "==============================\n",
      "img8: 0.9070557491289198\n",
      "img4: 0.9062309102015883\n",
      "img26: 0.9074053188369837\n",
      "img6: 0.9083026621807754\n"
     ]
    }
   ],
   "source": [
    "print('Scores')\n",
    "print('='*30)\n",
    "for key in scores.keys():\n",
    "    print(key,': ',scores[key] ,sep='')"
   ]
  },
  {
   "cell_type": "code",
   "execution_count": null,
   "metadata": {},
   "outputs": [],
   "source": []
  }
 ],
 "metadata": {
  "kernelspec": {
   "display_name": "Python 3",
   "language": "python",
   "name": "python3"
  },
  "language_info": {
   "codemirror_mode": {
    "name": "ipython",
    "version": 3
   },
   "file_extension": ".py",
   "mimetype": "text/x-python",
   "name": "python",
   "nbconvert_exporter": "python",
   "pygments_lexer": "ipython3",
   "version": "3.7.7"
  },
  "varInspector": {
   "cols": {
    "lenName": 16,
    "lenType": 16,
    "lenVar": 40
   },
   "kernels_config": {
    "python": {
     "delete_cmd_postfix": "",
     "delete_cmd_prefix": "del ",
     "library": "var_list.py",
     "varRefreshCmd": "print(var_dic_list())"
    },
    "r": {
     "delete_cmd_postfix": ") ",
     "delete_cmd_prefix": "rm(",
     "library": "var_list.r",
     "varRefreshCmd": "cat(var_dic_list()) "
    }
   },
   "types_to_exclude": [
    "module",
    "function",
    "builtin_function_or_method",
    "instance",
    "_Feature"
   ],
   "window_display": false
  }
 },
 "nbformat": 4,
 "nbformat_minor": 4
}
