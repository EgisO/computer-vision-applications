{
 "cells": [
  {
   "cell_type": "markdown",
   "metadata": {},
   "source": [
    "# Team EGE - BLG453E Term Project\n",
    "Egehan Orta - 150160124\n",
    "\n",
    "Yavuz Ege Okumuş - 150160118\n",
    "## Mine Game"
   ]
  },
  {
   "cell_type": "code",
   "execution_count": null,
   "metadata": {
    "ExecuteTime": {
     "end_time": "2021-01-31T12:31:58.133661Z",
     "start_time": "2021-01-31T12:31:53.518713Z"
    }
   },
   "outputs": [],
   "source": [
    "import pyautogui as pg\n",
    "import cv2 as cv\n",
    "import dlib\n",
    "import numpy as np\n",
    "import os\n",
    "import matplotlib.pyplot as plt\n",
    "import time"
   ]
  },
  {
   "cell_type": "code",
   "execution_count": null,
   "metadata": {
    "ExecuteTime": {
     "end_time": "2021-01-31T12:32:00.869823Z",
     "start_time": "2021-01-31T12:31:58.930365Z"
    }
   },
   "outputs": [],
   "source": [
    "my, mx = 270,960\n",
    "detector = dlib.get_frontal_face_detector()\n",
    "predictor = dlib.shape_predictor('./shape_predictor_68_face_landmarks.dat')"
   ]
  },
  {
   "cell_type": "code",
   "execution_count": null,
   "metadata": {
    "ExecuteTime": {
     "end_time": "2021-01-31T12:31:45.850705Z",
     "start_time": "2021-01-31T12:31:45.843724Z"
    }
   },
   "outputs": [],
   "source": [
    "gaussian_blur = np.array([[1,2,1],\n",
    "                         [2,4,2],\n",
    "                         [1,2,1]])/64\n",
    "sharpen = np.array([[0,-1,0],\n",
    "                   [-1,5,-1],\n",
    "                   [0,-1,0]])"
   ]
  },
  {
   "cell_type": "code",
   "execution_count": null,
   "metadata": {
    "ExecuteTime": {
     "end_time": "2021-01-31T12:31:46.055642Z",
     "start_time": "2021-01-31T12:31:46.049661Z"
    }
   },
   "outputs": [],
   "source": [
    "def calc_area(m):\n",
    "    m = m.reshape((-1,2))\n",
    "    ma = np.max(m,axis=0)\n",
    "    mi = np.min(m,axis=0)\n",
    "    return np.product(ma-mi)"
   ]
  },
  {
   "cell_type": "code",
   "execution_count": null,
   "metadata": {
    "ExecuteTime": {
     "end_time": "2021-01-31T12:33:56.027581Z",
     "start_time": "2021-01-31T12:33:56.007608Z"
    }
   },
   "outputs": [],
   "source": [
    "def img_process(src):\n",
    "    image = src.copy()\n",
    "    image = image[0:540, mx-270:mx+270]\n",
    "    \n",
    "    gray = cv.cvtColor(image, cv.COLOR_RGB2GRAY)\n",
    "    outside = np.where(gray==154)\n",
    "    blur = cv.filter2D(gray, -1, gaussian_blur)\n",
    "    sharp = cv.filter2D(blur, -1, sharpen)\n",
    "    high_thresh, thresh = cv.threshold(sharp,220,255,cv.THRESH_BINARY + cv.THRESH_OTSU)\n",
    "    \n",
    "    thresh[outside[0], outside[1]] = 154\n",
    "    temp = thresh[200:340, 220:320].copy()\n",
    "    temp = cv.blur(temp, (3,3))\n",
    "    temp = cv.blur(temp, (3,3))\n",
    "    temp = cv.blur(temp, (3,3))\n",
    "    \n",
    "    opening = cv.morphologyEx(temp, cv.MORPH_OPEN, np.ones((3,3)), iterations=1)\n",
    "    close = cv.morphologyEx(opening, cv.MORPH_CLOSE, np.ones((3,3)), iterations=15)\n",
    "\n",
    "    cl = thresh.copy()\n",
    "    cl[200:340, 220:320] = close\n",
    "    close = cl.copy()\n",
    "    \n",
    "    canny = cv.Canny(close, 0.5*high_thresh, high_thresh)\n",
    "    canny = cv.dilate(canny, np.ones((3,3)), iterations = 3)\n",
    "    _, __ = canny.shape\n",
    "    canny = cv.rectangle(canny,(0,0),(_-1,__-1),255,15)\n",
    "    \n",
    "    cnts = cv.findContours(canny, cv.RETR_TREE, cv.CHAIN_APPROX_SIMPLE)\n",
    "    min_area = (270**2)*0.4\n",
    "    max_area = (270**2)*1.2\n",
    "    colors = [(255,0,0), (0,255,0), (0,0,255), (255,0,255), (0,255,255)]\n",
    "    image_number = 0\n",
    "    for c in cnts[0]:\n",
    "        area = calc_area(c)\n",
    "        if (area > min_area and area < max_area) or False:\n",
    "            x,y,w,h = cv.boundingRect(c)\n",
    "            ROI = image[y:y+h, x:x+h]\n",
    "            img2 = cv.rectangle(image, (x, y), (x + w, y + h), colors[image_number%5], -1)\n",
    "            image_number += 1\n",
    "    \n",
    "    return img2"
   ]
  },
  {
   "cell_type": "code",
   "execution_count": null,
   "metadata": {
    "ExecuteTime": {
     "end_time": "2021-01-31T12:31:46.454824Z",
     "start_time": "2021-01-31T12:31:46.432910Z"
    }
   },
   "outputs": [],
   "source": [
    "def recolor(image):\n",
    "    img = image.copy()\n",
    "    color = img[270,270]\n",
    "    possible = None\n",
    "    if tuple(color) not in [(255,0,0), (0,255,0), (0,0,255), (255,0,255), (0,255,255)]:\n",
    "        for px in range(10):\n",
    "            cl = tuple(img[270,270-px])\n",
    "            if cl in [(255,0,0), (0,255,0), (0,0,255), (255,0,255), (0,255,255)]:\n",
    "                possible=(cl,px)\n",
    "                break\n",
    "        for px in range(10):\n",
    "            cl = tuple(img[270,270+px])\n",
    "            if cl in [(255,0,0), (0,255,0), (0,0,255), (255,0,255), (0,255,255)]:\n",
    "                if possible is not None:\n",
    "                    if possible[1] > px:\n",
    "                        possible=(cl,px)\n",
    "                        break\n",
    "                    else:\n",
    "                        break\n",
    "                else:\n",
    "                    possible=(cl,px)\n",
    "                    break\n",
    "        for px in range(10):\n",
    "            cl = tuple(img[270-px,270])\n",
    "            if cl in [(255,0,0), (0,255,0), (0,0,255), (255,0,255), (0,255,255)]:\n",
    "                if possible is not None:\n",
    "                    if possible[1] > px:\n",
    "                        possible=(cl,px)\n",
    "                        break\n",
    "                    else:\n",
    "                        break\n",
    "                else:\n",
    "                    possible=(cl,px)\n",
    "                    break\n",
    "        for px in range(10):\n",
    "            cl = tuple(img[270+px,270])\n",
    "            if cl in [(255,0,0), (0,255,0), (0,0,255), (255,0,255), (0,255,255)]:\n",
    "                if possible is not None:\n",
    "                    if possible[1] > px:\n",
    "                        possible=(cl,px)\n",
    "                        break\n",
    "                    else:\n",
    "                        break\n",
    "                else:\n",
    "                    possible=(cl,px)\n",
    "                    break\n",
    "        color = np.array(possible[0])      \n",
    "        \n",
    "    current = np.where((img[:,:] == color).all(axis=2))\n",
    "    img[current[0], current[1]] = [255,255,0] #Colorize current box yellow\n",
    "    \n",
    "    clean = np.where((img[:,:] != [255,255,0]).any(axis=2))\n",
    "    if clean:\n",
    "            img[clean[0], clean[1], :] = [0,0,0]\n",
    "            \n",
    "    current_mid = int(np.mean(current[0])) , int(np.mean(current[1]))\n",
    "    \n",
    "    t_border = np.min(current[0])+54\n",
    "    b_border = np.max(current[0])-54\n",
    "    l_border = np.min(current[1])+54\n",
    "    r_border = np.max(current[1])-54\n",
    "    \n",
    "    mid_y_t = max(current_mid[0]-20, 0)\n",
    "    mid_y_b = min(current_mid[0]+20, 540)\n",
    "    mid_x_l = max(current_mid[1]-20, 0)\n",
    "    mid_x_r = min(current_mid[1]+20, 540)\n",
    "    \n",
    "    img[mid_y_t:mid_y_b, mid_x_l:mid_x_r] = [255,0,0]\n",
    "    \n",
    "    img[t_border-45:t_border, l_border-45:r_border+45] = [0,255,0]\n",
    "    img[b_border:b_border+45, l_border-45:r_border+45] = [0,255,0]\n",
    "    img[t_border-45:b_border+45, l_border-45:l_border] = [0,255,0]\n",
    "    img[t_border-45:b_border+45, r_border:r_border+45] = [0,255,0]\n",
    "    \n",
    "    return img"
   ]
  },
  {
   "cell_type": "code",
   "execution_count": null,
   "metadata": {
    "ExecuteTime": {
     "end_time": "2021-01-31T12:31:47.202544Z",
     "start_time": "2021-01-31T12:31:47.197559Z"
    }
   },
   "outputs": [],
   "source": [
    "class grid():\n",
    "    def __init__(self):\n",
    "        self.info = dict(u = True, r = True ,d = True, l = True)"
   ]
  },
  {
   "cell_type": "code",
   "execution_count": null,
   "metadata": {
    "ExecuteTime": {
     "end_time": "2021-01-31T12:31:47.629750Z",
     "start_time": "2021-01-31T12:31:47.622489Z"
    }
   },
   "outputs": [],
   "source": [
    "def state():\n",
    "    img = np.array(pg.screenshot())\n",
    "    gray = cv.cvtColor(img, cv.COLOR_RGB2GRAY)\n",
    "    outside = np.where(gray==154)\n",
    "    thresh = cv.threshold(gray,32,255,cv.THRESH_BINARY)[1]\n",
    "    thresh = cv.dilate(thresh, np.ones((5,5)))\n",
    "    thresh[outside[0], outside[1]] = 154\n",
    "    \n",
    "    uniq = np.unique(thresh[my-55:my+55, mx-32:mx+28], return_counts=True)\n",
    "    if uniq[0][0] == 0 and uniq[1][0] > 2000:\n",
    "        thresh[my-55:my+55, mx-32:mx+28] = 0\n",
    "    return img, thresh"
   ]
  },
  {
   "cell_type": "code",
   "execution_count": null,
   "metadata": {
    "ExecuteTime": {
     "end_time": "2021-01-30T19:57:04.043270Z",
     "start_time": "2021-01-30T19:57:04.038283Z"
    }
   },
   "outputs": [],
   "source": [
    "def isgood(img):\n",
    "    gray = cv.cvtColor(img, cv.COLOR_RGB2GRAY)\n",
    "    p = predictor(gray, detector(gray)[0])\n",
    "    if p.parts()[9].y < 1060:\n",
    "        return False\n",
    "    return True"
   ]
  },
  {
   "cell_type": "code",
   "execution_count": null,
   "metadata": {
    "ExecuteTime": {
     "end_time": "2021-01-30T19:57:04.778303Z",
     "start_time": "2021-01-30T19:57:04.772319Z"
    }
   },
   "outputs": [],
   "source": [
    "def move(m, s):\n",
    "    if m == 'u':\n",
    "        pg.keyDown('w')\n",
    "        time.sleep(s)\n",
    "        pg.keyUp('w')\n",
    "    elif m == 'r':\n",
    "        pg.keyDown('d')\n",
    "        time.sleep(s)\n",
    "        pg.keyUp('d')\n",
    "    elif m == 'd':\n",
    "        pg.keyDown('s')\n",
    "        time.sleep(s)\n",
    "        pg.keyUp('s')\n",
    "    elif m == 'l':\n",
    "        pg.keyDown('a')\n",
    "        time.sleep(s)\n",
    "        pg.keyUp('a')\n",
    "    time.sleep(1)"
   ]
  },
  {
   "cell_type": "code",
   "execution_count": null,
   "metadata": {
    "ExecuteTime": {
     "end_time": "2021-01-30T19:57:05.501080Z",
     "start_time": "2021-01-30T19:57:05.497091Z"
    }
   },
   "outputs": [],
   "source": [
    "def invmove(m):\n",
    "    i = 'uldr'\n",
    "    j = 'drul'\n",
    "    \n",
    "    return j[i.index(m)]"
   ]
  },
  {
   "cell_type": "code",
   "execution_count": null,
   "metadata": {
    "ExecuteTime": {
     "end_time": "2021-01-30T19:57:06.245548Z",
     "start_time": "2021-01-30T19:57:06.240562Z"
    }
   },
   "outputs": [],
   "source": [
    "def isvalid(m, thresh):\n",
    "    if m == 'u':\n",
    "        return thresh[my-270, mx] != 154\n",
    "    elif m == 'r':\n",
    "        return thresh[my, mx+270] != 154\n",
    "    elif m == 'd':\n",
    "        return thresh[my+270, mx] != 154\n",
    "    elif m == 'l':\n",
    "        return thresh[my, mx-270] != 154"
   ]
  },
  {
   "cell_type": "code",
   "execution_count": null,
   "metadata": {
    "ExecuteTime": {
     "end_time": "2021-01-30T19:57:07.064358Z",
     "start_time": "2021-01-30T19:57:07.060369Z"
    }
   },
   "outputs": [],
   "source": [
    "def snap():\n",
    "    return np.array(pg.screenshot())"
   ]
  },
  {
   "cell_type": "code",
   "execution_count": null,
   "metadata": {
    "ExecuteTime": {
     "end_time": "2021-01-30T20:06:45.158152Z",
     "start_time": "2021-01-30T20:04:09.829104Z"
    },
    "scrolled": false
   },
   "outputs": [],
   "source": [
    "time.sleep(5)\n",
    "cur = grid()\n",
    "force = False\n",
    "notcheck = ''\n",
    "while True:\n",
    "    img, thresh = state()\n",
    "    for i in 'urdl':\n",
    "        if i == notcheck:\n",
    "            continue\n",
    "        cur.info[i] = isvalid(i,thresh)\n",
    "    notcheck = ''\n",
    "    if not force:\n",
    "        text = 'urdl'\n",
    "    else:\n",
    "        force = False\n",
    "    for idx,i in enumerate(text):\n",
    "        if cur.info[i]:\n",
    "            reimg = recolor(img_process(snap()))\n",
    "\n",
    "            while (reimg[270,270] != [0,255,0]).any():\n",
    "                move(i,0.15)\n",
    "                reimg = recolor(img_process(snap()))\n",
    "            if not isgood(snap()):\n",
    "                \n",
    "                reimg = recolor(img_process(snap()))\n",
    "                while (reimg[270,270] != [255,0,0]).any():\n",
    "                    move(invmove(i), 0.15)\n",
    "                    reimg = recolor(img_process(snap()))\n",
    "                \n",
    "                if not isgood(snap()):\n",
    "                    while (reimg[270,270] != [0,255,0]).any():\n",
    "                        move(i,0.2)\n",
    "                        reimg = recolor(img_process(snap()))\n",
    "                    while (reimg[270,270] != [255,0,0]).any():\n",
    "                        move(invmove(i), 0.15)\n",
    "                        reimg = recolor(img_process(snap()))\n",
    "                    force = True\n",
    "                    text = 'urdl'[idx+1:]\n",
    "                    break\n",
    "                else:\n",
    "                    cur.info[i] = False\n",
    "                \n",
    "            else:\n",
    "                reimg = recolor(img_process(snap()))\n",
    "                while (reimg[270,270] != [255,0,0]).any():\n",
    "                    move(i, 0.15)\n",
    "                    reimg = recolor(img_process(snap()))\n",
    "                cur = grid()\n",
    "                cur.info[invmove(i)] = False\n",
    "                notcheck = invmove(i)\n",
    "                break\n",
    "\n",
    "    \n",
    "    if not any(cur.info.values()):\n",
    "        break"
   ]
  },
  {
   "cell_type": "code",
   "execution_count": null,
   "metadata": {
    "ExecuteTime": {
     "end_time": "2021-01-23T17:10:18.558611Z",
     "start_time": "2021-01-23T17:08:32.591306Z"
    },
    "scrolled": true
   },
   "outputs": [],
   "source": []
  }
 ],
 "metadata": {
  "kernelspec": {
   "display_name": "Python 3",
   "language": "python",
   "name": "python3"
  },
  "language_info": {
   "codemirror_mode": {
    "name": "ipython",
    "version": 3
   },
   "file_extension": ".py",
   "mimetype": "text/x-python",
   "name": "python",
   "nbconvert_exporter": "python",
   "pygments_lexer": "ipython3",
   "version": "3.7.7"
  },
  "varInspector": {
   "cols": {
    "lenName": 16,
    "lenType": 16,
    "lenVar": 40
   },
   "kernels_config": {
    "python": {
     "delete_cmd_postfix": "",
     "delete_cmd_prefix": "del ",
     "library": "var_list.py",
     "varRefreshCmd": "print(var_dic_list())"
    },
    "r": {
     "delete_cmd_postfix": ") ",
     "delete_cmd_prefix": "rm(",
     "library": "var_list.r",
     "varRefreshCmd": "cat(var_dic_list()) "
    }
   },
   "types_to_exclude": [
    "module",
    "function",
    "builtin_function_or_method",
    "instance",
    "_Feature"
   ],
   "window_display": false
  }
 },
 "nbformat": 4,
 "nbformat_minor": 4
}
