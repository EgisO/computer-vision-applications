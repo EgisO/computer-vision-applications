{
 "cells": [
  {
   "cell_type": "markdown",
   "metadata": {},
   "source": [
    "# Team EGE - BLG453E Term Project\n",
    "Egehan Orta - 150160124\n",
    "\n",
    "Yavuz Ege Okumuş - 150160118\n",
    "## Dice Game"
   ]
  },
  {
   "cell_type": "code",
   "execution_count": null,
   "metadata": {
    "ExecuteTime": {
     "end_time": "2021-01-30T19:01:15.153319Z",
     "start_time": "2021-01-30T19:01:14.501089Z"
    }
   },
   "outputs": [],
   "source": [
    "import cv2 as cv\n",
    "import numpy as np\n",
    "import matplotlib.pyplot as plt\n",
    "from pyautogui import screenshot, press\n",
    "import time"
   ]
  },
  {
   "cell_type": "markdown",
   "metadata": {},
   "source": [
    "### PART 1"
   ]
  },
  {
   "cell_type": "code",
   "execution_count": null,
   "metadata": {
    "ExecuteTime": {
     "end_time": "2021-01-30T19:01:56.373252Z",
     "start_time": "2021-01-30T19:01:16.804014Z"
    }
   },
   "outputs": [],
   "source": [
    "keys = ['A', 'S', 'D']\n",
    "time.sleep(2)\n",
    "while True:\n",
    "    img = np.array(screenshot())\n",
    "    gray = cv.cvtColor(img, cv.COLOR_RGB2GRAY)\n",
    "    gray[gray<200] = 0\n",
    "    gray[gray>=200] = 255\n",
    "    edges = cv.Canny(gray, 30, 50)  \n",
    "    contours = cv.findContours(edges, cv.RETR_EXTERNAL, cv.CHAIN_APPROX_SIMPLE)\n",
    "    dices = []\n",
    "    for cnt in contours[0]:\n",
    "        (x,y,w,h) = cv.boundingRect(cnt)\n",
    "        ROI = edges[y:y+h,x:x+w]\n",
    "        ROI = cv.blur(ROI, (3,3))\n",
    "        ROI[ROI<75] = 0\n",
    "        ROI[ROI>=75] = 255\n",
    "        dices.append((ROI,x+w))\n",
    "    dices.sort(key=lambda x: x[1])\n",
    "    circles = []\n",
    "    for dice,_ in dices:\n",
    "        circle = cv.HoughCircles(dice,cv.HOUGH_GRADIENT,0.5, 20, param1 = 50, \n",
    "                   param2 = 30, minRadius = 0, maxRadius = 0)\n",
    "        circles.append(len(circle[0]))\n",
    "    press(keys[np.argmax(circles)])\n",
    "    time.sleep(1)"
   ]
  },
  {
   "cell_type": "markdown",
   "metadata": {},
   "source": [
    "### PART 2"
   ]
  },
  {
   "cell_type": "code",
   "execution_count": null,
   "metadata": {
    "ExecuteTime": {
     "end_time": "2021-01-30T19:02:04.969471Z",
     "start_time": "2021-01-30T19:02:04.951521Z"
    }
   },
   "outputs": [],
   "source": [
    "def dice_detector(img):\n",
    "    circles = set()\n",
    "    thresh = img.copy()\n",
    "    conts = cv.findContours(img, cv.RETR_EXTERNAL, cv.CHAIN_APPROX_SIMPLE)   \n",
    "    for i in conts[0]:\n",
    "        if  cv.contourArea(i) > 65000:\n",
    "            empty = np.zeros_like(img)\n",
    "            cv.fillPoly(empty, [i], (255,255,255))\n",
    "            result = cv.bitwise_and(img, empty)\n",
    "            white = cv.drawContours(result.copy(), [i], -1, (255), -1)         \n",
    "            corners = cv.goodFeaturesToTrack(white, 4, 0.3, 10)\n",
    "            pts = np.float32([[0,0], [300,0], [0,300], [300, 300]])\n",
    "            corners=corners.reshape(-1,2)\n",
    "            \n",
    "            if corners.size == 8:\n",
    "                dist = 0\n",
    "                cross = None\n",
    "                \n",
    "                for c in range(1,4):\n",
    "                    if np.sum((corners[0]-corners[c])**2)>dist:\n",
    "                        dist = np.sum((corners[0]-corners[c])**2)\n",
    "                        cross = c\n",
    "                    \n",
    "                if cross == None:\n",
    "                    continue\n",
    "                if cross == 1:\n",
    "                    corners = corners[[0,2,3,1]]\n",
    "                elif cross == 2:\n",
    "                    corners = corners[[0,1,3,2]]\n",
    "                    \n",
    "                M = cv.getPerspectiveTransform(corners,pts)\n",
    "                dst = cv.warpPerspective(thresh,M,(300,300))\n",
    "                \n",
    "                edges = cv.Canny(dst, 30, 50)\n",
    "                \n",
    "                ROI = cv.blur(edges, (3,3))\n",
    "                ret, ROI = cv.threshold(ROI,75,255,cv.THRESH_BINARY)\n",
    "                circle = cv.HoughCircles(ROI,cv.HOUGH_GRADIENT,0.5, 20, param1 = 50, \n",
    "                                         param2 = 30, minRadius = 0, maxRadius = 0)\n",
    "                \n",
    "                circles.add(len(circle[0]))\n",
    "    if len(circles) == 1:\n",
    "        return circles.pop()\n",
    "    else:\n",
    "        return False"
   ]
  },
  {
   "cell_type": "code",
   "execution_count": null,
   "metadata": {
    "ExecuteTime": {
     "end_time": "2021-01-30T19:02:45.670243Z",
     "start_time": "2021-01-30T19:02:07.020637Z"
    },
    "scrolled": false
   },
   "outputs": [],
   "source": [
    "begin = True\n",
    "time.sleep(2)\n",
    "while True:\n",
    "    if begin:\n",
    "        numbers = [0,0,0]\n",
    "    im = screenshot()\n",
    "    gray = cv.cvtColor(np.uint8(im), cv.COLOR_RGB2GRAY)\n",
    "    ret,thresh = cv.threshold(gray,200,255,cv.THRESH_BINARY)\n",
    "    left = thresh[:,:670]\n",
    "    mid = thresh[:,670:1260]\n",
    "    right = thresh[:,1260:]\n",
    "    \n",
    "    if numbers[0] == 0:\n",
    "        numbers[0] = dice_detector(left)\n",
    "    if numbers[1] == 0:\n",
    "        numbers[1] = dice_detector(mid)\n",
    "    if numbers[2] == 0:\n",
    "        numbers[2] = dice_detector(right)\n",
    "    if not all(numbers):\n",
    "        begin = False\n",
    "    else:\n",
    "        press('ASD'[np.argmax(numbers)])\n",
    "        begin = True\n",
    "    time.sleep(1)"
   ]
  },
  {
   "cell_type": "code",
   "execution_count": null,
   "metadata": {},
   "outputs": [],
   "source": []
  }
 ],
 "metadata": {
  "kernelspec": {
   "display_name": "Python 3",
   "language": "python",
   "name": "python3"
  },
  "language_info": {
   "codemirror_mode": {
    "name": "ipython",
    "version": 3
   },
   "file_extension": ".py",
   "mimetype": "text/x-python",
   "name": "python",
   "nbconvert_exporter": "python",
   "pygments_lexer": "ipython3",
   "version": "3.7.7"
  },
  "varInspector": {
   "cols": {
    "lenName": 16,
    "lenType": 16,
    "lenVar": 40
   },
   "kernels_config": {
    "python": {
     "delete_cmd_postfix": "",
     "delete_cmd_prefix": "del ",
     "library": "var_list.py",
     "varRefreshCmd": "print(var_dic_list())"
    },
    "r": {
     "delete_cmd_postfix": ") ",
     "delete_cmd_prefix": "rm(",
     "library": "var_list.r",
     "varRefreshCmd": "cat(var_dic_list()) "
    }
   },
   "types_to_exclude": [
    "module",
    "function",
    "builtin_function_or_method",
    "instance",
    "_Feature"
   ],
   "window_display": false
  }
 },
 "nbformat": 4,
 "nbformat_minor": 4
}
